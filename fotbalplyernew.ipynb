{
  "nbformat": 4,
  "nbformat_minor": 0,
  "metadata": {
    "colab": {
      "provenance": []
    },
    "kernelspec": {
      "name": "python3",
      "display_name": "Python 3"
    },
    "language_info": {
      "name": "python"
    }
  },
  "cells": [
    {
      "cell_type": "markdown",
      "source": [
        "Import Libraries"
      ],
      "metadata": {
        "id": "aFdWqGHGf49s"
      }
    },
    {
      "cell_type": "code",
      "source": [
        "import pandas as pd\n",
        "import numpy as np\n",
        "import matplotlib.pyplot as plt\n",
        "import seaborn as sns"
      ],
      "metadata": {
        "id": "6hR8_4Vkf6-0"
      },
      "execution_count": 1,
      "outputs": []
    },
    {
      "cell_type": "markdown",
      "source": [
        "Load Dataset"
      ],
      "metadata": {
        "id": "mOIFTfDqgFj0"
      }
    },
    {
      "cell_type": "code",
      "source": [
        "df = pd.read_csv('/content/appearances.csv')\n",
        "\n",
        "# Display first 5 rows\n",
        "df.head()"
      ],
      "metadata": {
        "colab": {
          "base_uri": "https://localhost:8080/",
          "height": 313
        },
        "id": "Sd6iqV--gGOs",
        "outputId": "cfe67118-d7b5-4962-f8d4-dd195a57cddd"
      },
      "execution_count": 2,
      "outputs": [
        {
          "output_type": "execute_result",
          "data": {
            "text/plain": [
              "    appearance_id  game_id  player_id  player_club_id  player_current_club_id  \\\n",
              "0   2231978_38004  2231978    38004.0           853.0                   235.0   \n",
              "1   2233748_79232  2233748    79232.0          8841.0                  2698.0   \n",
              "2   2234413_42792  2234413    42792.0          6251.0                   465.0   \n",
              "3   2234418_73333  2234418    73333.0          1274.0                  6646.0   \n",
              "4  2234421_122011  2234421   122011.0           195.0                  3008.0   \n",
              "\n",
              "         date       player_name competition_id  yellow_cards  red_cards  \\\n",
              "0  2012-07-03  Aurélien Joachim            CLQ           0.0        0.0   \n",
              "1  2012-07-05    Ruslan Abyshov            ELQ           0.0        0.0   \n",
              "2  2012-07-05       Sander Puri            ELQ           0.0        0.0   \n",
              "3  2012-07-05   Vegar Hedenstad            ELQ           0.0        0.0   \n",
              "4  2012-07-05  Markus Henriksen            ELQ           0.0        0.0   \n",
              "\n",
              "   goals  assists  minutes_played  \n",
              "0    2.0      0.0            90.0  \n",
              "1    0.0      0.0            90.0  \n",
              "2    0.0      0.0            45.0  \n",
              "3    0.0      0.0            90.0  \n",
              "4    0.0      1.0            90.0  "
            ],
            "text/html": [
              "\n",
              "  <div id=\"df-70c7d287-039a-4570-9a5f-546811f225ee\" class=\"colab-df-container\">\n",
              "    <div>\n",
              "<style scoped>\n",
              "    .dataframe tbody tr th:only-of-type {\n",
              "        vertical-align: middle;\n",
              "    }\n",
              "\n",
              "    .dataframe tbody tr th {\n",
              "        vertical-align: top;\n",
              "    }\n",
              "\n",
              "    .dataframe thead th {\n",
              "        text-align: right;\n",
              "    }\n",
              "</style>\n",
              "<table border=\"1\" class=\"dataframe\">\n",
              "  <thead>\n",
              "    <tr style=\"text-align: right;\">\n",
              "      <th></th>\n",
              "      <th>appearance_id</th>\n",
              "      <th>game_id</th>\n",
              "      <th>player_id</th>\n",
              "      <th>player_club_id</th>\n",
              "      <th>player_current_club_id</th>\n",
              "      <th>date</th>\n",
              "      <th>player_name</th>\n",
              "      <th>competition_id</th>\n",
              "      <th>yellow_cards</th>\n",
              "      <th>red_cards</th>\n",
              "      <th>goals</th>\n",
              "      <th>assists</th>\n",
              "      <th>minutes_played</th>\n",
              "    </tr>\n",
              "  </thead>\n",
              "  <tbody>\n",
              "    <tr>\n",
              "      <th>0</th>\n",
              "      <td>2231978_38004</td>\n",
              "      <td>2231978</td>\n",
              "      <td>38004.0</td>\n",
              "      <td>853.0</td>\n",
              "      <td>235.0</td>\n",
              "      <td>2012-07-03</td>\n",
              "      <td>Aurélien Joachim</td>\n",
              "      <td>CLQ</td>\n",
              "      <td>0.0</td>\n",
              "      <td>0.0</td>\n",
              "      <td>2.0</td>\n",
              "      <td>0.0</td>\n",
              "      <td>90.0</td>\n",
              "    </tr>\n",
              "    <tr>\n",
              "      <th>1</th>\n",
              "      <td>2233748_79232</td>\n",
              "      <td>2233748</td>\n",
              "      <td>79232.0</td>\n",
              "      <td>8841.0</td>\n",
              "      <td>2698.0</td>\n",
              "      <td>2012-07-05</td>\n",
              "      <td>Ruslan Abyshov</td>\n",
              "      <td>ELQ</td>\n",
              "      <td>0.0</td>\n",
              "      <td>0.0</td>\n",
              "      <td>0.0</td>\n",
              "      <td>0.0</td>\n",
              "      <td>90.0</td>\n",
              "    </tr>\n",
              "    <tr>\n",
              "      <th>2</th>\n",
              "      <td>2234413_42792</td>\n",
              "      <td>2234413</td>\n",
              "      <td>42792.0</td>\n",
              "      <td>6251.0</td>\n",
              "      <td>465.0</td>\n",
              "      <td>2012-07-05</td>\n",
              "      <td>Sander Puri</td>\n",
              "      <td>ELQ</td>\n",
              "      <td>0.0</td>\n",
              "      <td>0.0</td>\n",
              "      <td>0.0</td>\n",
              "      <td>0.0</td>\n",
              "      <td>45.0</td>\n",
              "    </tr>\n",
              "    <tr>\n",
              "      <th>3</th>\n",
              "      <td>2234418_73333</td>\n",
              "      <td>2234418</td>\n",
              "      <td>73333.0</td>\n",
              "      <td>1274.0</td>\n",
              "      <td>6646.0</td>\n",
              "      <td>2012-07-05</td>\n",
              "      <td>Vegar Hedenstad</td>\n",
              "      <td>ELQ</td>\n",
              "      <td>0.0</td>\n",
              "      <td>0.0</td>\n",
              "      <td>0.0</td>\n",
              "      <td>0.0</td>\n",
              "      <td>90.0</td>\n",
              "    </tr>\n",
              "    <tr>\n",
              "      <th>4</th>\n",
              "      <td>2234421_122011</td>\n",
              "      <td>2234421</td>\n",
              "      <td>122011.0</td>\n",
              "      <td>195.0</td>\n",
              "      <td>3008.0</td>\n",
              "      <td>2012-07-05</td>\n",
              "      <td>Markus Henriksen</td>\n",
              "      <td>ELQ</td>\n",
              "      <td>0.0</td>\n",
              "      <td>0.0</td>\n",
              "      <td>0.0</td>\n",
              "      <td>1.0</td>\n",
              "      <td>90.0</td>\n",
              "    </tr>\n",
              "  </tbody>\n",
              "</table>\n",
              "</div>\n",
              "    <div class=\"colab-df-buttons\">\n",
              "\n",
              "  <div class=\"colab-df-container\">\n",
              "    <button class=\"colab-df-convert\" onclick=\"convertToInteractive('df-70c7d287-039a-4570-9a5f-546811f225ee')\"\n",
              "            title=\"Convert this dataframe to an interactive table.\"\n",
              "            style=\"display:none;\">\n",
              "\n",
              "  <svg xmlns=\"http://www.w3.org/2000/svg\" height=\"24px\" viewBox=\"0 -960 960 960\">\n",
              "    <path d=\"M120-120v-720h720v720H120Zm60-500h600v-160H180v160Zm220 220h160v-160H400v160Zm0 220h160v-160H400v160ZM180-400h160v-160H180v160Zm440 0h160v-160H620v160ZM180-180h160v-160H180v160Zm440 0h160v-160H620v160Z\"/>\n",
              "  </svg>\n",
              "    </button>\n",
              "\n",
              "  <style>\n",
              "    .colab-df-container {\n",
              "      display:flex;\n",
              "      gap: 12px;\n",
              "    }\n",
              "\n",
              "    .colab-df-convert {\n",
              "      background-color: #E8F0FE;\n",
              "      border: none;\n",
              "      border-radius: 50%;\n",
              "      cursor: pointer;\n",
              "      display: none;\n",
              "      fill: #1967D2;\n",
              "      height: 32px;\n",
              "      padding: 0 0 0 0;\n",
              "      width: 32px;\n",
              "    }\n",
              "\n",
              "    .colab-df-convert:hover {\n",
              "      background-color: #E2EBFA;\n",
              "      box-shadow: 0px 1px 2px rgba(60, 64, 67, 0.3), 0px 1px 3px 1px rgba(60, 64, 67, 0.15);\n",
              "      fill: #174EA6;\n",
              "    }\n",
              "\n",
              "    .colab-df-buttons div {\n",
              "      margin-bottom: 4px;\n",
              "    }\n",
              "\n",
              "    [theme=dark] .colab-df-convert {\n",
              "      background-color: #3B4455;\n",
              "      fill: #D2E3FC;\n",
              "    }\n",
              "\n",
              "    [theme=dark] .colab-df-convert:hover {\n",
              "      background-color: #434B5C;\n",
              "      box-shadow: 0px 1px 3px 1px rgba(0, 0, 0, 0.15);\n",
              "      filter: drop-shadow(0px 1px 2px rgba(0, 0, 0, 0.3));\n",
              "      fill: #FFFFFF;\n",
              "    }\n",
              "  </style>\n",
              "\n",
              "    <script>\n",
              "      const buttonEl =\n",
              "        document.querySelector('#df-70c7d287-039a-4570-9a5f-546811f225ee button.colab-df-convert');\n",
              "      buttonEl.style.display =\n",
              "        google.colab.kernel.accessAllowed ? 'block' : 'none';\n",
              "\n",
              "      async function convertToInteractive(key) {\n",
              "        const element = document.querySelector('#df-70c7d287-039a-4570-9a5f-546811f225ee');\n",
              "        const dataTable =\n",
              "          await google.colab.kernel.invokeFunction('convertToInteractive',\n",
              "                                                    [key], {});\n",
              "        if (!dataTable) return;\n",
              "\n",
              "        const docLinkHtml = 'Like what you see? Visit the ' +\n",
              "          '<a target=\"_blank\" href=https://colab.research.google.com/notebooks/data_table.ipynb>data table notebook</a>'\n",
              "          + ' to learn more about interactive tables.';\n",
              "        element.innerHTML = '';\n",
              "        dataTable['output_type'] = 'display_data';\n",
              "        await google.colab.output.renderOutput(dataTable, element);\n",
              "        const docLink = document.createElement('div');\n",
              "        docLink.innerHTML = docLinkHtml;\n",
              "        element.appendChild(docLink);\n",
              "      }\n",
              "    </script>\n",
              "  </div>\n",
              "\n",
              "\n",
              "<div id=\"df-dfdaff1d-5262-498b-83d9-6c3ba9869dd3\">\n",
              "  <button class=\"colab-df-quickchart\" onclick=\"quickchart('df-dfdaff1d-5262-498b-83d9-6c3ba9869dd3')\"\n",
              "            title=\"Suggest charts\"\n",
              "            style=\"display:none;\">\n",
              "\n",
              "<svg xmlns=\"http://www.w3.org/2000/svg\" height=\"24px\"viewBox=\"0 0 24 24\"\n",
              "     width=\"24px\">\n",
              "    <g>\n",
              "        <path d=\"M19 3H5c-1.1 0-2 .9-2 2v14c0 1.1.9 2 2 2h14c1.1 0 2-.9 2-2V5c0-1.1-.9-2-2-2zM9 17H7v-7h2v7zm4 0h-2V7h2v10zm4 0h-2v-4h2v4z\"/>\n",
              "    </g>\n",
              "</svg>\n",
              "  </button>\n",
              "\n",
              "<style>\n",
              "  .colab-df-quickchart {\n",
              "      --bg-color: #E8F0FE;\n",
              "      --fill-color: #1967D2;\n",
              "      --hover-bg-color: #E2EBFA;\n",
              "      --hover-fill-color: #174EA6;\n",
              "      --disabled-fill-color: #AAA;\n",
              "      --disabled-bg-color: #DDD;\n",
              "  }\n",
              "\n",
              "  [theme=dark] .colab-df-quickchart {\n",
              "      --bg-color: #3B4455;\n",
              "      --fill-color: #D2E3FC;\n",
              "      --hover-bg-color: #434B5C;\n",
              "      --hover-fill-color: #FFFFFF;\n",
              "      --disabled-bg-color: #3B4455;\n",
              "      --disabled-fill-color: #666;\n",
              "  }\n",
              "\n",
              "  .colab-df-quickchart {\n",
              "    background-color: var(--bg-color);\n",
              "    border: none;\n",
              "    border-radius: 50%;\n",
              "    cursor: pointer;\n",
              "    display: none;\n",
              "    fill: var(--fill-color);\n",
              "    height: 32px;\n",
              "    padding: 0;\n",
              "    width: 32px;\n",
              "  }\n",
              "\n",
              "  .colab-df-quickchart:hover {\n",
              "    background-color: var(--hover-bg-color);\n",
              "    box-shadow: 0 1px 2px rgba(60, 64, 67, 0.3), 0 1px 3px 1px rgba(60, 64, 67, 0.15);\n",
              "    fill: var(--button-hover-fill-color);\n",
              "  }\n",
              "\n",
              "  .colab-df-quickchart-complete:disabled,\n",
              "  .colab-df-quickchart-complete:disabled:hover {\n",
              "    background-color: var(--disabled-bg-color);\n",
              "    fill: var(--disabled-fill-color);\n",
              "    box-shadow: none;\n",
              "  }\n",
              "\n",
              "  .colab-df-spinner {\n",
              "    border: 2px solid var(--fill-color);\n",
              "    border-color: transparent;\n",
              "    border-bottom-color: var(--fill-color);\n",
              "    animation:\n",
              "      spin 1s steps(1) infinite;\n",
              "  }\n",
              "\n",
              "  @keyframes spin {\n",
              "    0% {\n",
              "      border-color: transparent;\n",
              "      border-bottom-color: var(--fill-color);\n",
              "      border-left-color: var(--fill-color);\n",
              "    }\n",
              "    20% {\n",
              "      border-color: transparent;\n",
              "      border-left-color: var(--fill-color);\n",
              "      border-top-color: var(--fill-color);\n",
              "    }\n",
              "    30% {\n",
              "      border-color: transparent;\n",
              "      border-left-color: var(--fill-color);\n",
              "      border-top-color: var(--fill-color);\n",
              "      border-right-color: var(--fill-color);\n",
              "    }\n",
              "    40% {\n",
              "      border-color: transparent;\n",
              "      border-right-color: var(--fill-color);\n",
              "      border-top-color: var(--fill-color);\n",
              "    }\n",
              "    60% {\n",
              "      border-color: transparent;\n",
              "      border-right-color: var(--fill-color);\n",
              "    }\n",
              "    80% {\n",
              "      border-color: transparent;\n",
              "      border-right-color: var(--fill-color);\n",
              "      border-bottom-color: var(--fill-color);\n",
              "    }\n",
              "    90% {\n",
              "      border-color: transparent;\n",
              "      border-bottom-color: var(--fill-color);\n",
              "    }\n",
              "  }\n",
              "</style>\n",
              "\n",
              "  <script>\n",
              "    async function quickchart(key) {\n",
              "      const quickchartButtonEl =\n",
              "        document.querySelector('#' + key + ' button');\n",
              "      quickchartButtonEl.disabled = true;  // To prevent multiple clicks.\n",
              "      quickchartButtonEl.classList.add('colab-df-spinner');\n",
              "      try {\n",
              "        const charts = await google.colab.kernel.invokeFunction(\n",
              "            'suggestCharts', [key], {});\n",
              "      } catch (error) {\n",
              "        console.error('Error during call to suggestCharts:', error);\n",
              "      }\n",
              "      quickchartButtonEl.classList.remove('colab-df-spinner');\n",
              "      quickchartButtonEl.classList.add('colab-df-quickchart-complete');\n",
              "    }\n",
              "    (() => {\n",
              "      let quickchartButtonEl =\n",
              "        document.querySelector('#df-dfdaff1d-5262-498b-83d9-6c3ba9869dd3 button');\n",
              "      quickchartButtonEl.style.display =\n",
              "        google.colab.kernel.accessAllowed ? 'block' : 'none';\n",
              "    })();\n",
              "  </script>\n",
              "</div>\n",
              "\n",
              "    </div>\n",
              "  </div>\n"
            ],
            "application/vnd.google.colaboratory.intrinsic+json": {
              "type": "dataframe",
              "variable_name": "df"
            }
          },
          "metadata": {},
          "execution_count": 2
        }
      ]
    },
    {
      "cell_type": "markdown",
      "source": [
        "Basic Information"
      ],
      "metadata": {
        "id": "uD8ArXkpgR5O"
      }
    },
    {
      "cell_type": "code",
      "source": [
        "# Shape of Data\n",
        "print(\"Shape of Dataset:\", df.shape)\n",
        "\n",
        "# Column Names\n",
        "print(\"Columns in Dataset:\", df.columns)\n",
        "\n",
        "# Data Types\n",
        "print(df.dtypes)\n",
        "\n",
        "# Check Missing Values\n",
        "print(df.isnull().sum())"
      ],
      "metadata": {
        "colab": {
          "base_uri": "https://localhost:8080/"
        },
        "id": "3Fd-bhdGgU5d",
        "outputId": "8ddc898e-73c1-4e2f-e568-c85b1531ef09"
      },
      "execution_count": 3,
      "outputs": [
        {
          "output_type": "stream",
          "name": "stdout",
          "text": [
            "Shape of Dataset: (108397, 13)\n",
            "Columns in Dataset: Index(['appearance_id', 'game_id', 'player_id', 'player_club_id',\n",
            "       'player_current_club_id', 'date', 'player_name', 'competition_id',\n",
            "       'yellow_cards', 'red_cards', 'goals', 'assists', 'minutes_played'],\n",
            "      dtype='object')\n",
            "appearance_id              object\n",
            "game_id                     int64\n",
            "player_id                 float64\n",
            "player_club_id            float64\n",
            "player_current_club_id    float64\n",
            "date                       object\n",
            "player_name                object\n",
            "competition_id             object\n",
            "yellow_cards              float64\n",
            "red_cards                 float64\n",
            "goals                     float64\n",
            "assists                   float64\n",
            "minutes_played            float64\n",
            "dtype: object\n",
            "appearance_id             0\n",
            "game_id                   0\n",
            "player_id                 1\n",
            "player_club_id            1\n",
            "player_current_club_id    1\n",
            "date                      1\n",
            "player_name               1\n",
            "competition_id            1\n",
            "yellow_cards              1\n",
            "red_cards                 1\n",
            "goals                     1\n",
            "assists                   1\n",
            "minutes_played            1\n",
            "dtype: int64\n"
          ]
        }
      ]
    },
    {
      "cell_type": "markdown",
      "source": [
        "Handle Missing Values"
      ],
      "metadata": {
        "id": "eL4OWfCpgcCM"
      }
    },
    {
      "cell_type": "code",
      "source": [
        "# Filling missing values with 0\n",
        "df.fillna(0, inplace=True)\n",
        "\n",
        "# Recheck Missing Values\n",
        "print(df.isnull().sum())"
      ],
      "metadata": {
        "colab": {
          "base_uri": "https://localhost:8080/"
        },
        "id": "tAnFGw1BgZj1",
        "outputId": "d3d46500-d917-4b00-89a5-c67b209d52a8"
      },
      "execution_count": 4,
      "outputs": [
        {
          "output_type": "stream",
          "name": "stdout",
          "text": [
            "appearance_id             0\n",
            "game_id                   0\n",
            "player_id                 0\n",
            "player_club_id            0\n",
            "player_current_club_id    0\n",
            "date                      0\n",
            "player_name               0\n",
            "competition_id            0\n",
            "yellow_cards              0\n",
            "red_cards                 0\n",
            "goals                     0\n",
            "assists                   0\n",
            "minutes_played            0\n",
            "dtype: int64\n"
          ]
        }
      ]
    },
    {
      "cell_type": "markdown",
      "source": [
        "Check Duplicate"
      ],
      "metadata": {
        "id": "n29d7wpLgjpd"
      }
    },
    {
      "cell_type": "code",
      "source": [
        "# Check for Duplicates\n",
        "print(\"Duplicate Rows:\", df.duplicated().sum())"
      ],
      "metadata": {
        "colab": {
          "base_uri": "https://localhost:8080/"
        },
        "id": "9UuJIyfzggqW",
        "outputId": "ff4213cb-fb11-4a74-c127-b8ed8c999294"
      },
      "execution_count": 5,
      "outputs": [
        {
          "output_type": "stream",
          "name": "stdout",
          "text": [
            "Duplicate Rows: 0\n"
          ]
        }
      ]
    },
    {
      "cell_type": "markdown",
      "source": [
        "Summary Statistics"
      ],
      "metadata": {
        "id": "d22QUwwcgsdF"
      }
    },
    {
      "cell_type": "code",
      "source": [
        "# Numerical Data Summary\n",
        "df.describe()"
      ],
      "metadata": {
        "colab": {
          "base_uri": "https://localhost:8080/",
          "height": 320
        },
        "id": "TcTQ68zSgrut",
        "outputId": "750dfd23-db20-42af-b842-0ae616b2913b"
      },
      "execution_count": 6,
      "outputs": [
        {
          "output_type": "execute_result",
          "data": {
            "text/plain": [
              "            game_id      player_id  player_club_id  player_current_club_id  \\\n",
              "count  1.083970e+05  108397.000000   108397.000000           108397.000000   \n",
              "mean   2.243470e+06   56051.857533     1843.272461             3300.178105   \n",
              "std    2.755842e+04   47512.321868     3461.393506             8296.903574   \n",
              "min    2.227000e+03       0.000000        0.000000                0.000000   \n",
              "25%    2.224911e+06   21496.000000      265.000000              366.000000   \n",
              "50%    2.243008e+06   44060.000000      720.000000              982.000000   \n",
              "75%    2.251454e+06   75224.000000     2282.000000             2698.000000   \n",
              "max    3.848689e+06  344627.000000    37022.000000           110302.000000   \n",
              "\n",
              "        yellow_cards      red_cards          goals        assists  \\\n",
              "count  108397.000000  108397.000000  108397.000000  108397.000000   \n",
              "mean        0.156942       0.004917       0.099652       0.082096   \n",
              "std         0.376999       0.069950       0.337399       0.298810   \n",
              "min         0.000000       0.000000       0.000000       0.000000   \n",
              "25%         0.000000       0.000000       0.000000       0.000000   \n",
              "50%         0.000000       0.000000       0.000000       0.000000   \n",
              "75%         0.000000       0.000000       0.000000       0.000000   \n",
              "max         2.000000       1.000000       5.000000       4.000000   \n",
              "\n",
              "       minutes_played  \n",
              "count   108397.000000  \n",
              "mean        71.845162  \n",
              "std         28.612446  \n",
              "min          0.000000  \n",
              "25%         61.000000  \n",
              "50%         90.000000  \n",
              "75%         90.000000  \n",
              "max        120.000000  "
            ],
            "text/html": [
              "\n",
              "  <div id=\"df-73b0902f-141c-4d16-9041-68a354bdc32b\" class=\"colab-df-container\">\n",
              "    <div>\n",
              "<style scoped>\n",
              "    .dataframe tbody tr th:only-of-type {\n",
              "        vertical-align: middle;\n",
              "    }\n",
              "\n",
              "    .dataframe tbody tr th {\n",
              "        vertical-align: top;\n",
              "    }\n",
              "\n",
              "    .dataframe thead th {\n",
              "        text-align: right;\n",
              "    }\n",
              "</style>\n",
              "<table border=\"1\" class=\"dataframe\">\n",
              "  <thead>\n",
              "    <tr style=\"text-align: right;\">\n",
              "      <th></th>\n",
              "      <th>game_id</th>\n",
              "      <th>player_id</th>\n",
              "      <th>player_club_id</th>\n",
              "      <th>player_current_club_id</th>\n",
              "      <th>yellow_cards</th>\n",
              "      <th>red_cards</th>\n",
              "      <th>goals</th>\n",
              "      <th>assists</th>\n",
              "      <th>minutes_played</th>\n",
              "    </tr>\n",
              "  </thead>\n",
              "  <tbody>\n",
              "    <tr>\n",
              "      <th>count</th>\n",
              "      <td>1.083970e+05</td>\n",
              "      <td>108397.000000</td>\n",
              "      <td>108397.000000</td>\n",
              "      <td>108397.000000</td>\n",
              "      <td>108397.000000</td>\n",
              "      <td>108397.000000</td>\n",
              "      <td>108397.000000</td>\n",
              "      <td>108397.000000</td>\n",
              "      <td>108397.000000</td>\n",
              "    </tr>\n",
              "    <tr>\n",
              "      <th>mean</th>\n",
              "      <td>2.243470e+06</td>\n",
              "      <td>56051.857533</td>\n",
              "      <td>1843.272461</td>\n",
              "      <td>3300.178105</td>\n",
              "      <td>0.156942</td>\n",
              "      <td>0.004917</td>\n",
              "      <td>0.099652</td>\n",
              "      <td>0.082096</td>\n",
              "      <td>71.845162</td>\n",
              "    </tr>\n",
              "    <tr>\n",
              "      <th>std</th>\n",
              "      <td>2.755842e+04</td>\n",
              "      <td>47512.321868</td>\n",
              "      <td>3461.393506</td>\n",
              "      <td>8296.903574</td>\n",
              "      <td>0.376999</td>\n",
              "      <td>0.069950</td>\n",
              "      <td>0.337399</td>\n",
              "      <td>0.298810</td>\n",
              "      <td>28.612446</td>\n",
              "    </tr>\n",
              "    <tr>\n",
              "      <th>min</th>\n",
              "      <td>2.227000e+03</td>\n",
              "      <td>0.000000</td>\n",
              "      <td>0.000000</td>\n",
              "      <td>0.000000</td>\n",
              "      <td>0.000000</td>\n",
              "      <td>0.000000</td>\n",
              "      <td>0.000000</td>\n",
              "      <td>0.000000</td>\n",
              "      <td>0.000000</td>\n",
              "    </tr>\n",
              "    <tr>\n",
              "      <th>25%</th>\n",
              "      <td>2.224911e+06</td>\n",
              "      <td>21496.000000</td>\n",
              "      <td>265.000000</td>\n",
              "      <td>366.000000</td>\n",
              "      <td>0.000000</td>\n",
              "      <td>0.000000</td>\n",
              "      <td>0.000000</td>\n",
              "      <td>0.000000</td>\n",
              "      <td>61.000000</td>\n",
              "    </tr>\n",
              "    <tr>\n",
              "      <th>50%</th>\n",
              "      <td>2.243008e+06</td>\n",
              "      <td>44060.000000</td>\n",
              "      <td>720.000000</td>\n",
              "      <td>982.000000</td>\n",
              "      <td>0.000000</td>\n",
              "      <td>0.000000</td>\n",
              "      <td>0.000000</td>\n",
              "      <td>0.000000</td>\n",
              "      <td>90.000000</td>\n",
              "    </tr>\n",
              "    <tr>\n",
              "      <th>75%</th>\n",
              "      <td>2.251454e+06</td>\n",
              "      <td>75224.000000</td>\n",
              "      <td>2282.000000</td>\n",
              "      <td>2698.000000</td>\n",
              "      <td>0.000000</td>\n",
              "      <td>0.000000</td>\n",
              "      <td>0.000000</td>\n",
              "      <td>0.000000</td>\n",
              "      <td>90.000000</td>\n",
              "    </tr>\n",
              "    <tr>\n",
              "      <th>max</th>\n",
              "      <td>3.848689e+06</td>\n",
              "      <td>344627.000000</td>\n",
              "      <td>37022.000000</td>\n",
              "      <td>110302.000000</td>\n",
              "      <td>2.000000</td>\n",
              "      <td>1.000000</td>\n",
              "      <td>5.000000</td>\n",
              "      <td>4.000000</td>\n",
              "      <td>120.000000</td>\n",
              "    </tr>\n",
              "  </tbody>\n",
              "</table>\n",
              "</div>\n",
              "    <div class=\"colab-df-buttons\">\n",
              "\n",
              "  <div class=\"colab-df-container\">\n",
              "    <button class=\"colab-df-convert\" onclick=\"convertToInteractive('df-73b0902f-141c-4d16-9041-68a354bdc32b')\"\n",
              "            title=\"Convert this dataframe to an interactive table.\"\n",
              "            style=\"display:none;\">\n",
              "\n",
              "  <svg xmlns=\"http://www.w3.org/2000/svg\" height=\"24px\" viewBox=\"0 -960 960 960\">\n",
              "    <path d=\"M120-120v-720h720v720H120Zm60-500h600v-160H180v160Zm220 220h160v-160H400v160Zm0 220h160v-160H400v160ZM180-400h160v-160H180v160Zm440 0h160v-160H620v160ZM180-180h160v-160H180v160Zm440 0h160v-160H620v160Z\"/>\n",
              "  </svg>\n",
              "    </button>\n",
              "\n",
              "  <style>\n",
              "    .colab-df-container {\n",
              "      display:flex;\n",
              "      gap: 12px;\n",
              "    }\n",
              "\n",
              "    .colab-df-convert {\n",
              "      background-color: #E8F0FE;\n",
              "      border: none;\n",
              "      border-radius: 50%;\n",
              "      cursor: pointer;\n",
              "      display: none;\n",
              "      fill: #1967D2;\n",
              "      height: 32px;\n",
              "      padding: 0 0 0 0;\n",
              "      width: 32px;\n",
              "    }\n",
              "\n",
              "    .colab-df-convert:hover {\n",
              "      background-color: #E2EBFA;\n",
              "      box-shadow: 0px 1px 2px rgba(60, 64, 67, 0.3), 0px 1px 3px 1px rgba(60, 64, 67, 0.15);\n",
              "      fill: #174EA6;\n",
              "    }\n",
              "\n",
              "    .colab-df-buttons div {\n",
              "      margin-bottom: 4px;\n",
              "    }\n",
              "\n",
              "    [theme=dark] .colab-df-convert {\n",
              "      background-color: #3B4455;\n",
              "      fill: #D2E3FC;\n",
              "    }\n",
              "\n",
              "    [theme=dark] .colab-df-convert:hover {\n",
              "      background-color: #434B5C;\n",
              "      box-shadow: 0px 1px 3px 1px rgba(0, 0, 0, 0.15);\n",
              "      filter: drop-shadow(0px 1px 2px rgba(0, 0, 0, 0.3));\n",
              "      fill: #FFFFFF;\n",
              "    }\n",
              "  </style>\n",
              "\n",
              "    <script>\n",
              "      const buttonEl =\n",
              "        document.querySelector('#df-73b0902f-141c-4d16-9041-68a354bdc32b button.colab-df-convert');\n",
              "      buttonEl.style.display =\n",
              "        google.colab.kernel.accessAllowed ? 'block' : 'none';\n",
              "\n",
              "      async function convertToInteractive(key) {\n",
              "        const element = document.querySelector('#df-73b0902f-141c-4d16-9041-68a354bdc32b');\n",
              "        const dataTable =\n",
              "          await google.colab.kernel.invokeFunction('convertToInteractive',\n",
              "                                                    [key], {});\n",
              "        if (!dataTable) return;\n",
              "\n",
              "        const docLinkHtml = 'Like what you see? Visit the ' +\n",
              "          '<a target=\"_blank\" href=https://colab.research.google.com/notebooks/data_table.ipynb>data table notebook</a>'\n",
              "          + ' to learn more about interactive tables.';\n",
              "        element.innerHTML = '';\n",
              "        dataTable['output_type'] = 'display_data';\n",
              "        await google.colab.output.renderOutput(dataTable, element);\n",
              "        const docLink = document.createElement('div');\n",
              "        docLink.innerHTML = docLinkHtml;\n",
              "        element.appendChild(docLink);\n",
              "      }\n",
              "    </script>\n",
              "  </div>\n",
              "\n",
              "\n",
              "<div id=\"df-39a7257d-8c28-4557-b527-856df60a853d\">\n",
              "  <button class=\"colab-df-quickchart\" onclick=\"quickchart('df-39a7257d-8c28-4557-b527-856df60a853d')\"\n",
              "            title=\"Suggest charts\"\n",
              "            style=\"display:none;\">\n",
              "\n",
              "<svg xmlns=\"http://www.w3.org/2000/svg\" height=\"24px\"viewBox=\"0 0 24 24\"\n",
              "     width=\"24px\">\n",
              "    <g>\n",
              "        <path d=\"M19 3H5c-1.1 0-2 .9-2 2v14c0 1.1.9 2 2 2h14c1.1 0 2-.9 2-2V5c0-1.1-.9-2-2-2zM9 17H7v-7h2v7zm4 0h-2V7h2v10zm4 0h-2v-4h2v4z\"/>\n",
              "    </g>\n",
              "</svg>\n",
              "  </button>\n",
              "\n",
              "<style>\n",
              "  .colab-df-quickchart {\n",
              "      --bg-color: #E8F0FE;\n",
              "      --fill-color: #1967D2;\n",
              "      --hover-bg-color: #E2EBFA;\n",
              "      --hover-fill-color: #174EA6;\n",
              "      --disabled-fill-color: #AAA;\n",
              "      --disabled-bg-color: #DDD;\n",
              "  }\n",
              "\n",
              "  [theme=dark] .colab-df-quickchart {\n",
              "      --bg-color: #3B4455;\n",
              "      --fill-color: #D2E3FC;\n",
              "      --hover-bg-color: #434B5C;\n",
              "      --hover-fill-color: #FFFFFF;\n",
              "      --disabled-bg-color: #3B4455;\n",
              "      --disabled-fill-color: #666;\n",
              "  }\n",
              "\n",
              "  .colab-df-quickchart {\n",
              "    background-color: var(--bg-color);\n",
              "    border: none;\n",
              "    border-radius: 50%;\n",
              "    cursor: pointer;\n",
              "    display: none;\n",
              "    fill: var(--fill-color);\n",
              "    height: 32px;\n",
              "    padding: 0;\n",
              "    width: 32px;\n",
              "  }\n",
              "\n",
              "  .colab-df-quickchart:hover {\n",
              "    background-color: var(--hover-bg-color);\n",
              "    box-shadow: 0 1px 2px rgba(60, 64, 67, 0.3), 0 1px 3px 1px rgba(60, 64, 67, 0.15);\n",
              "    fill: var(--button-hover-fill-color);\n",
              "  }\n",
              "\n",
              "  .colab-df-quickchart-complete:disabled,\n",
              "  .colab-df-quickchart-complete:disabled:hover {\n",
              "    background-color: var(--disabled-bg-color);\n",
              "    fill: var(--disabled-fill-color);\n",
              "    box-shadow: none;\n",
              "  }\n",
              "\n",
              "  .colab-df-spinner {\n",
              "    border: 2px solid var(--fill-color);\n",
              "    border-color: transparent;\n",
              "    border-bottom-color: var(--fill-color);\n",
              "    animation:\n",
              "      spin 1s steps(1) infinite;\n",
              "  }\n",
              "\n",
              "  @keyframes spin {\n",
              "    0% {\n",
              "      border-color: transparent;\n",
              "      border-bottom-color: var(--fill-color);\n",
              "      border-left-color: var(--fill-color);\n",
              "    }\n",
              "    20% {\n",
              "      border-color: transparent;\n",
              "      border-left-color: var(--fill-color);\n",
              "      border-top-color: var(--fill-color);\n",
              "    }\n",
              "    30% {\n",
              "      border-color: transparent;\n",
              "      border-left-color: var(--fill-color);\n",
              "      border-top-color: var(--fill-color);\n",
              "      border-right-color: var(--fill-color);\n",
              "    }\n",
              "    40% {\n",
              "      border-color: transparent;\n",
              "      border-right-color: var(--fill-color);\n",
              "      border-top-color: var(--fill-color);\n",
              "    }\n",
              "    60% {\n",
              "      border-color: transparent;\n",
              "      border-right-color: var(--fill-color);\n",
              "    }\n",
              "    80% {\n",
              "      border-color: transparent;\n",
              "      border-right-color: var(--fill-color);\n",
              "      border-bottom-color: var(--fill-color);\n",
              "    }\n",
              "    90% {\n",
              "      border-color: transparent;\n",
              "      border-bottom-color: var(--fill-color);\n",
              "    }\n",
              "  }\n",
              "</style>\n",
              "\n",
              "  <script>\n",
              "    async function quickchart(key) {\n",
              "      const quickchartButtonEl =\n",
              "        document.querySelector('#' + key + ' button');\n",
              "      quickchartButtonEl.disabled = true;  // To prevent multiple clicks.\n",
              "      quickchartButtonEl.classList.add('colab-df-spinner');\n",
              "      try {\n",
              "        const charts = await google.colab.kernel.invokeFunction(\n",
              "            'suggestCharts', [key], {});\n",
              "      } catch (error) {\n",
              "        console.error('Error during call to suggestCharts:', error);\n",
              "      }\n",
              "      quickchartButtonEl.classList.remove('colab-df-spinner');\n",
              "      quickchartButtonEl.classList.add('colab-df-quickchart-complete');\n",
              "    }\n",
              "    (() => {\n",
              "      let quickchartButtonEl =\n",
              "        document.querySelector('#df-39a7257d-8c28-4557-b527-856df60a853d button');\n",
              "      quickchartButtonEl.style.display =\n",
              "        google.colab.kernel.accessAllowed ? 'block' : 'none';\n",
              "    })();\n",
              "  </script>\n",
              "</div>\n",
              "\n",
              "    </div>\n",
              "  </div>\n"
            ],
            "application/vnd.google.colaboratory.intrinsic+json": {
              "type": "dataframe",
              "summary": "{\n  \"name\": \"df\",\n  \"rows\": 8,\n  \"fields\": [\n    {\n      \"column\": \"game_id\",\n      \"properties\": {\n        \"dtype\": \"number\",\n        \"std\": 1411511.3254733665,\n        \"min\": 2227.0,\n        \"max\": 3848689.0,\n        \"num_unique_values\": 8,\n        \"samples\": [\n          2243469.6342241946,\n          2243008.0,\n          108397.0\n        ],\n        \"semantic_type\": \"\",\n        \"description\": \"\"\n      }\n    },\n    {\n      \"column\": \"player_id\",\n      \"properties\": {\n        \"dtype\": \"number\",\n        \"std\": 109014.16997479794,\n        \"min\": 0.0,\n        \"max\": 344627.0,\n        \"num_unique_values\": 8,\n        \"samples\": [\n          56051.857532957554,\n          44060.0,\n          108397.0\n        ],\n        \"semantic_type\": \"\",\n        \"description\": \"\"\n      }\n    },\n    {\n      \"column\": \"player_club_id\",\n      \"properties\": {\n        \"dtype\": \"number\",\n        \"std\": 38130.551098881704,\n        \"min\": 0.0,\n        \"max\": 108397.0,\n        \"num_unique_values\": 8,\n        \"samples\": [\n          1843.2724614149838,\n          720.0,\n          108397.0\n        ],\n        \"semantic_type\": \"\",\n        \"description\": \"\"\n      }\n    },\n    {\n      \"column\": \"player_current_club_id\",\n      \"properties\": {\n        \"dtype\": \"number\",\n        \"std\": 49483.07311708745,\n        \"min\": 0.0,\n        \"max\": 110302.0,\n        \"num_unique_values\": 8,\n        \"samples\": [\n          3300.178104560089,\n          982.0,\n          108397.0\n        ],\n        \"semantic_type\": \"\",\n        \"description\": \"\"\n      }\n    },\n    {\n      \"column\": \"yellow_cards\",\n      \"properties\": {\n        \"dtype\": \"number\",\n        \"std\": 38323.998902882515,\n        \"min\": 0.0,\n        \"max\": 108397.0,\n        \"num_unique_values\": 5,\n        \"samples\": [\n          0.1569416127752613,\n          2.0,\n          0.3769987054944631\n        ],\n        \"semantic_type\": \"\",\n        \"description\": \"\"\n      }\n    },\n    {\n      \"column\": \"red_cards\",\n      \"properties\": {\n        \"dtype\": \"number\",\n        \"std\": 38324.07259272619,\n        \"min\": 0.0,\n        \"max\": 108397.0,\n        \"num_unique_values\": 5,\n        \"samples\": [\n          0.004917110252128749,\n          1.0,\n          0.0699498207167947\n        ],\n        \"semantic_type\": \"\",\n        \"description\": \"\"\n      }\n    },\n    {\n      \"column\": \"goals\",\n      \"properties\": {\n        \"dtype\": \"number\",\n        \"std\": 38323.85230656367,\n        \"min\": 0.0,\n        \"max\": 108397.0,\n        \"num_unique_values\": 5,\n        \"samples\": [\n          0.09965220439680066,\n          5.0,\n          0.33739850515850744\n        ],\n        \"semantic_type\": \"\",\n        \"description\": \"\"\n      }\n    },\n    {\n      \"column\": \"assists\",\n      \"properties\": {\n        \"dtype\": \"number\",\n        \"std\": 38323.905635823176,\n        \"min\": 0.0,\n        \"max\": 108397.0,\n        \"num_unique_values\": 5,\n        \"samples\": [\n          0.08209636798066366,\n          4.0,\n          0.2988103962009385\n        ],\n        \"semantic_type\": \"\",\n        \"description\": \"\"\n      }\n    },\n    {\n      \"column\": \"minutes_played\",\n      \"properties\": {\n        \"dtype\": \"number\",\n        \"std\": 38300.83817864445,\n        \"min\": 0.0,\n        \"max\": 108397.0,\n        \"num_unique_values\": 7,\n        \"samples\": [\n          108397.0,\n          71.84516176646954,\n          90.0\n        ],\n        \"semantic_type\": \"\",\n        \"description\": \"\"\n      }\n    }\n  ]\n}"
            }
          },
          "metadata": {},
          "execution_count": 6
        }
      ]
    },
    {
      "cell_type": "markdown",
      "source": [
        "Univariate Analysis\n",
        "Value Counts for Categorical Features"
      ],
      "metadata": {
        "id": "LFPKizeogzcj"
      }
    },
    {
      "cell_type": "code",
      "source": [
        "# Positions Count\n",
        "if 'position' in df.columns:\n",
        "    print(df['position'].value_counts())\n",
        "\n",
        "    # Plot Positions\n",
        "    sns.countplot(x='position', data=df)\n",
        "    plt.xticks(rotation=45)\n",
        "    plt.title(\"Player Position Count\")\n",
        "    plt.show()"
      ],
      "metadata": {
        "id": "BLR4WXQCgoxV"
      },
      "execution_count": 9,
      "outputs": []
    },
    {
      "cell_type": "markdown",
      "source": [
        "Goals Distribution"
      ],
      "metadata": {
        "id": "qBBNtCD6hK19"
      }
    },
    {
      "cell_type": "code",
      "source": [
        "sns.histplot(df['goals'], bins=20, kde=True)\n",
        "plt.title(\"Goals Distribution\")\n",
        "plt.show()"
      ],
      "metadata": {
        "colab": {
          "base_uri": "https://localhost:8080/",
          "height": 472
        },
        "id": "lWBdOwlghNgw",
        "outputId": "96bea782-32ac-4c9e-d358-d294082e8d61"
      },
      "execution_count": 10,
      "outputs": [
        {
          "output_type": "display_data",
          "data": {
            "text/plain": [
              "<Figure size 640x480 with 1 Axes>"
            ],
            "image/png": "[encoded data removed]"
          },
          "metadata": {}
        }
      ]
    },
    {
      "cell_type": "markdown",
      "source": [
        "Minutes Played Distribution"
      ],
      "metadata": {
        "id": "PXodVFuxhS4w"
      }
    },
    {
      "cell_type": "code",
      "source": [
        "sns.histplot(df['minutes_played'], bins=30, kde=True)\n",
        "plt.title(\"Minutes Played Distribution\")\n",
        "plt.show()"
      ],
      "metadata": {
        "colab": {
          "base_uri": "https://localhost:8080/",
          "height": 472
        },
        "id": "6IcuS0q9hTyA",
        "outputId": "88491e55-d340-4f39-bccd-3b17451e5d19"
      },
      "execution_count": 11,
      "outputs": [
        {
          "output_type": "display_data",
          "data": {
            "text/plain": [
              "<Figure size 640x480 with 1 Axes>"
            ],
            "image/png": "[encoded data removed]"
          },
          "metadata": {}
        }
      ]
    },
    {
      "cell_type": "markdown",
      "source": [
        " Bivariate Analysis"
      ],
      "metadata": {
        "id": "lfdyJsI5hXjA"
      }
    },
    {
      "cell_type": "code",
      "source": [
        "plt.figure(figsize=(10, 6))\n",
        "numerical_df = df.select_dtypes(include=np.number)\n",
        "sns.heatmap(numerical_df.corr(), annot=True, cmap='coolwarm')\n",
        "plt.title(\"Correlation Heatmap\")\n",
        "plt.show()"
      ],
      "metadata": {
        "colab": {
          "base_uri": "https://localhost:8080/",
          "height": 687
        },
        "id": "En-Z-OUzhbEA",
        "outputId": "a8357702-ab57-4298-d1dc-2d508f63ed19"
      },
      "execution_count": 14,
      "outputs": [
        {
          "output_type": "display_data",
          "data": {
            "text/plain": [
              "<Figure size 1000x600 with 2 Axes>"
            ],
            "image/png": "[encoded data removed]"
          },
          "metadata": {}
        }
      ]
    },
    {
      "cell_type": "markdown",
      "source": [
        "Position vs Goals"
      ],
      "metadata": {
        "id": "nTFlosCrhqfC"
      }
    },
    {
      "cell_type": "code",
      "source": [
        "# Check if 'position' column exists before grouping\n",
        "if 'position' in df.columns:\n",
        "    df.groupby('position')['goals'].mean().sort_values(ascending=False).plot(kind='bar')\n",
        "    plt.title(\"Average Goals by Position\")\n",
        "    plt.ylabel(\"Average Goals\")\n",
        "    plt.show()\n",
        "else:\n",
        "    print(\"Column 'position' not found in the DataFrame.\")\n"
      ],
      "metadata": {
        "colab": {
          "base_uri": "https://localhost:8080/"
        },
        "id": "qnSOU7gzhrM3",
        "outputId": "dba396be-f56e-4980-bd68-7fcc4392d4cb"
      },
      "execution_count": 16,
      "outputs": [
        {
          "output_type": "stream",
          "name": "stdout",
          "text": [
            "Column 'position' not found in the DataFrame.\n"
          ]
        }
      ]
    },
    {
      "cell_type": "markdown",
      "source": [
        "Position vs Yellow Cards"
      ],
      "metadata": {
        "id": "d1EYp_m1h6p7"
      }
    },
    {
      "cell_type": "code",
      "source": [
        "# Check if 'position' column exists before grouping\n",
        "if 'position' in df.columns:\n",
        "    df.groupby('position')['yellow_cards'].mean().sort_values(ascending=False).plot(kind='bar', color='orange')\n",
        "    plt.title(\"Average Yellow Cards by Position\")\n",
        "    plt.ylabel(\"Average Yellow Cards\")\n",
        "    plt.show()\n",
        "else:\n",
        "    print(\"Column 'position' not found in the DataFrame.\")"
      ],
      "metadata": {
        "colab": {
          "base_uri": "https://localhost:8080/"
        },
        "id": "5rlFAX9Jh7YP",
        "outputId": "8f16d3e6-ce3c-499c-ee5d-da91838ce171"
      },
      "execution_count": 20,
      "outputs": [
        {
          "output_type": "stream",
          "name": "stdout",
          "text": [
            "Column 'position' not found in the DataFrame.\n"
          ]
        }
      ]
    },
    {
      "cell_type": "markdown",
      "source": [
        "Feature Engineering"
      ],
      "metadata": {
        "id": "GRRUigcviRdL"
      }
    },
    {
      "cell_type": "code",
      "source": [
        "# Goals Per 90 Minutes\n",
        "df['goals_per_90'] = (df['goals'] / df['minutes_played']) * 90\n",
        "\n",
        "# Contribution Score\n",
        "df['contribution'] = df['goals'] + df['assists']\n",
        "\n",
        "# Aggression Score\n",
        "df['aggression'] = df['yellow_cards'] + df['red_cards']\n",
        "\n",
        "# Display New Features\n",
        "df[['goals_per_90', 'contribution', 'aggression']].head()\n"
      ],
      "metadata": {
        "colab": {
          "base_uri": "https://localhost:8080/",
          "height": 206
        },
        "id": "JDN0iP9tiSrL",
        "outputId": "d2c4f547-702f-4b43-edb3-ef9d99ca11ad"
      },
      "execution_count": 21,
      "outputs": [
        {
          "output_type": "execute_result",
          "data": {
            "text/plain": [
              "   goals_per_90  contribution  aggression\n",
              "0           2.0           2.0         0.0\n",
              "1           0.0           0.0         0.0\n",
              "2           0.0           0.0         0.0\n",
              "3           0.0           0.0         0.0\n",
              "4           0.0           1.0         0.0"
            ],
            "text/html": [
              "\n",
              "  <div id=\"df-d950a530-5fc1-40c7-a50a-d5a063b0e9d3\" class=\"colab-df-container\">\n",
              "    <div>\n",
              "<style scoped>\n",
              "    .dataframe tbody tr th:only-of-type {\n",
              "        vertical-align: middle;\n",
              "    }\n",
              "\n",
              "    .dataframe tbody tr th {\n",
              "        vertical-align: top;\n",
              "    }\n",
              "\n",
              "    .dataframe thead th {\n",
              "        text-align: right;\n",
              "    }\n",
              "</style>\n",
              "<table border=\"1\" class=\"dataframe\">\n",
              "  <thead>\n",
              "    <tr style=\"text-align: right;\">\n",
              "      <th></th>\n",
              "      <th>goals_per_90</th>\n",
              "      <th>contribution</th>\n",
              "      <th>aggression</th>\n",
              "    </tr>\n",
              "  </thead>\n",
              "  <tbody>\n",
              "    <tr>\n",
              "      <th>0</th>\n",
              "      <td>2.0</td>\n",
              "      <td>2.0</td>\n",
              "      <td>0.0</td>\n",
              "    </tr>\n",
              "    <tr>\n",
              "      <th>1</th>\n",
              "      <td>0.0</td>\n",
              "      <td>0.0</td>\n",
              "      <td>0.0</td>\n",
              "    </tr>\n",
              "    <tr>\n",
              "      <th>2</th>\n",
              "      <td>0.0</td>\n",
              "      <td>0.0</td>\n",
              "      <td>0.0</td>\n",
              "    </tr>\n",
              "    <tr>\n",
              "      <th>3</th>\n",
              "      <td>0.0</td>\n",
              "      <td>0.0</td>\n",
              "      <td>0.0</td>\n",
              "    </tr>\n",
              "    <tr>\n",
              "      <th>4</th>\n",
              "      <td>0.0</td>\n",
              "      <td>1.0</td>\n",
              "      <td>0.0</td>\n",
              "    </tr>\n",
              "  </tbody>\n",
              "</table>\n",
              "</div>\n",
              "    <div class=\"colab-df-buttons\">\n",
              "\n",
              "  <div class=\"colab-df-container\">\n",
              "    <button class=\"colab-df-convert\" onclick=\"convertToInteractive('df-d950a530-5fc1-40c7-a50a-d5a063b0e9d3')\"\n",
              "            title=\"Convert this dataframe to an interactive table.\"\n",
              "            style=\"display:none;\">\n",
              "\n",
              "  <svg xmlns=\"http://www.w3.org/2000/svg\" height=\"24px\" viewBox=\"0 -960 960 960\">\n",
              "    <path d=\"M120-120v-720h720v720H120Zm60-500h600v-160H180v160Zm220 220h160v-160H400v160Zm0 220h160v-160H400v160ZM180-400h160v-160H180v160Zm440 0h160v-160H620v160ZM180-180h160v-160H180v160Zm440 0h160v-160H620v160Z\"/>\n",
              "  </svg>\n",
              "    </button>\n",
              "\n",
              "  <style>\n",
              "    .colab-df-container {\n",
              "      display:flex;\n",
              "      gap: 12px;\n",
              "    }\n",
              "\n",
              "    .colab-df-convert {\n",
              "      background-color: #E8F0FE;\n",
              "      border: none;\n",
              "      border-radius: 50%;\n",
              "      cursor: pointer;\n",
              "      display: none;\n",
              "      fill: #1967D2;\n",
              "      height: 32px;\n",
              "      padding: 0 0 0 0;\n",
              "      width: 32px;\n",
              "    }\n",
              "\n",
              "    .colab-df-convert:hover {\n",
              "      background-color: #E2EBFA;\n",
              "      box-shadow: 0px 1px 2px rgba(60, 64, 67, 0.3), 0px 1px 3px 1px rgba(60, 64, 67, 0.15);\n",
              "      fill: #174EA6;\n",
              "    }\n",
              "\n",
              "    .colab-df-buttons div {\n",
              "      margin-bottom: 4px;\n",
              "    }\n",
              "\n",
              "    [theme=dark] .colab-df-convert {\n",
              "      background-color: #3B4455;\n",
              "      fill: #D2E3FC;\n",
              "    }\n",
              "\n",
              "    [theme=dark] .colab-df-convert:hover {\n",
              "      background-color: #434B5C;\n",
              "      box-shadow: 0px 1px 3px 1px rgba(0, 0, 0, 0.15);\n",
              "      filter: drop-shadow(0px 1px 2px rgba(0, 0, 0, 0.3));\n",
              "      fill: #FFFFFF;\n",
              "    }\n",
              "  </style>\n",
              "\n",
              "    <script>\n",
              "      const buttonEl =\n",
              "        document.querySelector('#df-d950a530-5fc1-40c7-a50a-d5a063b0e9d3 button.colab-df-convert');\n",
              "      buttonEl.style.display =\n",
              "        google.colab.kernel.accessAllowed ? 'block' : 'none';\n",
              "\n",
              "      async function convertToInteractive(key) {\n",
              "        const element = document.querySelector('#df-d950a530-5fc1-40c7-a50a-d5a063b0e9d3');\n",
              "        const dataTable =\n",
              "          await google.colab.kernel.invokeFunction('convertToInteractive',\n",
              "                                                    [key], {});\n",
              "        if (!dataTable) return;\n",
              "\n",
              "        const docLinkHtml = 'Like what you see? Visit the ' +\n",
              "          '<a target=\"_blank\" href=https://colab.research.google.com/notebooks/data_table.ipynb>data table notebook</a>'\n",
              "          + ' to learn more about interactive tables.';\n",
              "        element.innerHTML = '';\n",
              "        dataTable['output_type'] = 'display_data';\n",
              "        await google.colab.output.renderOutput(dataTable, element);\n",
              "        const docLink = document.createElement('div');\n",
              "        docLink.innerHTML = docLinkHtml;\n",
              "        element.appendChild(docLink);\n",
              "      }\n",
              "    </script>\n",
              "  </div>\n",
              "\n",
              "\n",
              "<div id=\"df-fc547fb3-1b36-483e-8732-d9aa45d56b3e\">\n",
              "  <button class=\"colab-df-quickchart\" onclick=\"quickchart('df-fc547fb3-1b36-483e-8732-d9aa45d56b3e')\"\n",
              "            title=\"Suggest charts\"\n",
              "            style=\"display:none;\">\n",
              "\n",
              "<svg xmlns=\"http://www.w3.org/2000/svg\" height=\"24px\"viewBox=\"0 0 24 24\"\n",
              "     width=\"24px\">\n",
              "    <g>\n",
              "        <path d=\"M19 3H5c-1.1 0-2 .9-2 2v14c0 1.1.9 2 2 2h14c1.1 0 2-.9 2-2V5c0-1.1-.9-2-2-2zM9 17H7v-7h2v7zm4 0h-2V7h2v10zm4 0h-2v-4h2v4z\"/>\n",
              "    </g>\n",
              "</svg>\n",
              "  </button>\n",
              "\n",
              "<style>\n",
              "  .colab-df-quickchart {\n",
              "      --bg-color: #E8F0FE;\n",
              "      --fill-color: #1967D2;\n",
              "      --hover-bg-color: #E2EBFA;\n",
              "      --hover-fill-color: #174EA6;\n",
              "      --disabled-fill-color: #AAA;\n",
              "      --disabled-bg-color: #DDD;\n",
              "  }\n",
              "\n",
              "  [theme=dark] .colab-df-quickchart {\n",
              "      --bg-color: #3B4455;\n",
              "      --fill-color: #D2E3FC;\n",
              "      --hover-bg-color: #434B5C;\n",
              "      --hover-fill-color: #FFFFFF;\n",
              "      --disabled-bg-color: #3B4455;\n",
              "      --disabled-fill-color: #666;\n",
              "  }\n",
              "\n",
              "  .colab-df-quickchart {\n",
              "    background-color: var(--bg-color);\n",
              "    border: none;\n",
              "    border-radius: 50%;\n",
              "    cursor: pointer;\n",
              "    display: none;\n",
              "    fill: var(--fill-color);\n",
              "    height: 32px;\n",
              "    padding: 0;\n",
              "    width: 32px;\n",
              "  }\n",
              "\n",
              "  .colab-df-quickchart:hover {\n",
              "    background-color: var(--hover-bg-color);\n",
              "    box-shadow: 0 1px 2px rgba(60, 64, 67, 0.3), 0 1px 3px 1px rgba(60, 64, 67, 0.15);\n",
              "    fill: var(--button-hover-fill-color);\n",
              "  }\n",
              "\n",
              "  .colab-df-quickchart-complete:disabled,\n",
              "  .colab-df-quickchart-complete:disabled:hover {\n",
              "    background-color: var(--disabled-bg-color);\n",
              "    fill: var(--disabled-fill-color);\n",
              "    box-shadow: none;\n",
              "  }\n",
              "\n",
              "  .colab-df-spinner {\n",
              "    border: 2px solid var(--fill-color);\n",
              "    border-color: transparent;\n",
              "    border-bottom-color: var(--fill-color);\n",
              "    animation:\n",
              "      spin 1s steps(1) infinite;\n",
              "  }\n",
              "\n",
              "  @keyframes spin {\n",
              "    0% {\n",
              "      border-color: transparent;\n",
              "      border-bottom-color: var(--fill-color);\n",
              "      border-left-color: var(--fill-color);\n",
              "    }\n",
              "    20% {\n",
              "      border-color: transparent;\n",
              "      border-left-color: var(--fill-color);\n",
              "      border-top-color: var(--fill-color);\n",
              "    }\n",
              "    30% {\n",
              "      border-color: transparent;\n",
              "      border-left-color: var(--fill-color);\n",
              "      border-top-color: var(--fill-color);\n",
              "      border-right-color: var(--fill-color);\n",
              "    }\n",
              "    40% {\n",
              "      border-color: transparent;\n",
              "      border-right-color: var(--fill-color);\n",
              "      border-top-color: var(--fill-color);\n",
              "    }\n",
              "    60% {\n",
              "      border-color: transparent;\n",
              "      border-right-color: var(--fill-color);\n",
              "    }\n",
              "    80% {\n",
              "      border-color: transparent;\n",
              "      border-right-color: var(--fill-color);\n",
              "      border-bottom-color: var(--fill-color);\n",
              "    }\n",
              "    90% {\n",
              "      border-color: transparent;\n",
              "      border-bottom-color: var(--fill-color);\n",
              "    }\n",
              "  }\n",
              "</style>\n",
              "\n",
              "  <script>\n",
              "    async function quickchart(key) {\n",
              "      const quickchartButtonEl =\n",
              "        document.querySelector('#' + key + ' button');\n",
              "      quickchartButtonEl.disabled = true;  // To prevent multiple clicks.\n",
              "      quickchartButtonEl.classList.add('colab-df-spinner');\n",
              "      try {\n",
              "        const charts = await google.colab.kernel.invokeFunction(\n",
              "            'suggestCharts', [key], {});\n",
              "      } catch (error) {\n",
              "        console.error('Error during call to suggestCharts:', error);\n",
              "      }\n",
              "      quickchartButtonEl.classList.remove('colab-df-spinner');\n",
              "      quickchartButtonEl.classList.add('colab-df-quickchart-complete');\n",
              "    }\n",
              "    (() => {\n",
              "      let quickchartButtonEl =\n",
              "        document.querySelector('#df-fc547fb3-1b36-483e-8732-d9aa45d56b3e button');\n",
              "      quickchartButtonEl.style.display =\n",
              "        google.colab.kernel.accessAllowed ? 'block' : 'none';\n",
              "    })();\n",
              "  </script>\n",
              "</div>\n",
              "\n",
              "    </div>\n",
              "  </div>\n"
            ],
            "application/vnd.google.colaboratory.intrinsic+json": {
              "type": "dataframe",
              "summary": "{\n  \"name\": \"df[['goals_per_90', 'contribution', 'aggression']]\",\n  \"rows\": 5,\n  \"fields\": [\n    {\n      \"column\": \"goals_per_90\",\n      \"properties\": {\n        \"dtype\": \"number\",\n        \"std\": 0.8944271909999161,\n        \"min\": 0.0,\n        \"max\": 2.0,\n        \"num_unique_values\": 2,\n        \"samples\": [\n          0.0,\n          2.0\n        ],\n        \"semantic_type\": \"\",\n        \"description\": \"\"\n      }\n    },\n    {\n      \"column\": \"contribution\",\n      \"properties\": {\n        \"dtype\": \"number\",\n        \"std\": 0.8944271909999159,\n        \"min\": 0.0,\n        \"max\": 2.0,\n        \"num_unique_values\": 3,\n        \"samples\": [\n          2.0,\n          0.0\n        ],\n        \"semantic_type\": \"\",\n        \"description\": \"\"\n      }\n    },\n    {\n      \"column\": \"aggression\",\n      \"properties\": {\n        \"dtype\": \"number\",\n        \"std\": 0.0,\n        \"min\": 0.0,\n        \"max\": 0.0,\n        \"num_unique_values\": 1,\n        \"samples\": [\n          0.0\n        ],\n        \"semantic_type\": \"\",\n        \"description\": \"\"\n      }\n    }\n  ]\n}"
            }
          },
          "metadata": {},
          "execution_count": 21
        }
      ]
    },
    {
      "cell_type": "markdown",
      "source": [
        " Final Insights Extraction"
      ],
      "metadata": {
        "id": "W--9-vEdiXEb"
      }
    },
    {
      "cell_type": "code",
      "source": [
        "# Top 10 Players with Highest Contribution\n",
        "top_contributors = df.groupby('player_id')['contribution'].sum().sort_values(ascending=False).head(10)\n",
        "print(top_contributors)\n",
        "\n",
        "# Top 10 Most Aggressive Players\n",
        "top_aggression = df.groupby('player_id')['aggression'].sum().sort_values(ascending=False).head(10)\n",
        "print(top_aggression)\n"
      ],
      "metadata": {
        "colab": {
          "base_uri": "https://localhost:8080/"
        },
        "id": "Pf990B7-iXwk",
        "outputId": "ec84f9c8-3cb2-4223-e9a4-cb7c8821c2d5"
      },
      "execution_count": 22,
      "outputs": [
        {
          "output_type": "stream",
          "name": "stdout",
          "text": [
            "player_id\n",
            "28003.0    73.0\n",
            "8198.0     53.0\n",
            "3455.0     43.0\n",
            "44068.0    41.0\n",
            "81808.0    40.0\n",
            "44352.0    40.0\n",
            "38253.0    40.0\n",
            "4380.0     36.0\n",
            "90024.0    35.0\n",
            "36139.0    34.0\n",
            "Name: contribution, dtype: float64\n",
            "player_id\n",
            "25942.0    18.0\n",
            "7476.0     16.0\n",
            "20730.0    16.0\n",
            "21905.0    15.0\n",
            "7828.0     15.0\n",
            "21175.0    15.0\n",
            "63290.0    15.0\n",
            "21763.0    15.0\n",
            "40888.0    15.0\n",
            "22550.0    15.0\n",
            "Name: aggression, dtype: float64\n"
          ]
        }
      ]
    },
    {
      "cell_type": "markdown",
      "source": [
        "Feature Selection for Regression"
      ],
      "metadata": {
        "id": "EI-FID31ibQj"
      }
    },
    {
      "cell_type": "code",
      "source": [
        "# Drop columns not useful for regression\n",
        "# Check if columns exist before dropping\n",
        "columns_to_drop = ['player_id']\n",
        "for col in ['team_id', 'position']:\n",
        "    if col in df.columns:\n",
        "        columns_to_drop.append(col)\n",
        "\n",
        "df_model = df.drop(columns_to_drop, axis=1)\n",
        "\n",
        "# Define X and y\n",
        "X = df_model.drop('goals', axis=1)\n",
        "y = df_model['goals']\n",
        "\n"
      ],
      "metadata": {
        "id": "jgnazPG8ijlq"
      },
      "execution_count": 25,
      "outputs": []
    },
    {
      "cell_type": "markdown",
      "source": [
        "Train-Test Split"
      ],
      "metadata": {
        "id": "mgH9IB9NigkL"
      }
    },
    {
      "cell_type": "code",
      "source": [
        "from sklearn.model_selection import train_test_split\n",
        "\n",
        "# Split Data\n",
        "X_train, X_test, y_train, y_test = train_test_split(X, y, test_size=0.2, random_state=42)\n"
      ],
      "metadata": {
        "id": "-SUiG_TUizH6"
      },
      "execution_count": 26,
      "outputs": []
    },
    {
      "cell_type": "markdown",
      "source": [
        "Model Selection\n",
        "Linear Regression"
      ],
      "metadata": {
        "id": "Np8wUFP_iynE"
      }
    },
    {
      "cell_type": "code",
      "source": [
        "# Drop columns not useful for regression\n",
        "# Check if columns exist before dropping\n",
        "columns_to_drop = ['player_id']  # Remove 'date' from initial list\n",
        "for col in ['team_id', 'position']:\n",
        "    if col in df.columns:\n",
        "        columns_to_drop.append(col)\n",
        "\n",
        "# Only drop 'date' if it exists\n",
        "if 'date' in df.columns:\n",
        "    columns_to_drop.append('date')\n",
        "\n",
        "df_model = df.drop(columns_to_drop, axis=1)\n",
        "\n",
        "# Define X and y\n",
        "X = df_model.drop('goals', axis=1)\n",
        "y = df_model['goals']"
      ],
      "metadata": {
        "id": "xLhZmymDd_P3"
      },
      "execution_count": 12,
      "outputs": []
    },
    {
      "cell_type": "markdown",
      "source": [
        "Random Forest Regressor"
      ],
      "metadata": {
        "id": "SLzaoxaAjUKQ"
      }
    },
    {
      "cell_type": "markdown",
      "source": [
        "Model Evaluation\n",
        "Import Metrics"
      ],
      "metadata": {
        "id": "-djpu8Elju5z"
      }
    },
    {
      "cell_type": "code",
      "source": [
        "from sklearn.metrics import mean_absolute_error, mean_squared_error, r2_score\n"
      ],
      "metadata": {
        "id": "l-v6tvHqj0Hy"
      },
      "execution_count": 14,
      "outputs": []
    },
    {
      "cell_type": "code",
      "source": [
        "# Import Libraries\n",
        "import pandas as pd\n",
        "from sklearn.model_selection import train_test_split\n",
        "from sklearn.ensemble import RandomForestClassifier\n",
        "from sklearn.metrics import accuracy_score\n",
        "\n",
        "# Load the Dataset\n",
        "df = pd.read_csv('appearances.csv')\n",
        "\n",
        "if 'performance' not in df.columns:\n",
        "    df['performance'] = df['goals']\n",
        "\n",
        "numeric_cols = df.select_dtypes(include=['number']).columns\n",
        "if 'performance' in df.columns and 'performance' not in numeric_cols:\n",
        "    numeric_cols = numeric_cols.insert(0, 'performance')\n",
        "df = df[numeric_cols]\n",
        "\n",
        "# Split Features and Target\n",
        "X = df.drop('performance', axis=1)  # Features\n",
        "y = df['performance']               # Target\n",
        "\n",
        "# Train-Test Split\n",
        "X_train, X_test, y_train, y_test = train_test_split(X, y, test_size=0.2, random_state=42)\n",
        "\n",
        "# Initialize Random Forest\n",
        "model = RandomForestClassifier()\n",
        "\n",
        "# Train the Model\n",
        "model.fit(X_train, y_train)\n",
        "\n",
        "# Predict\n",
        "y_pred = model.predict(X_test)\n",
        "\n",
        "# Calculate Accuracy\n",
        "accuracy = accuracy_score(y_test, y_pred)\n",
        "\n",
        "print(\"Random Forest Accuracy:\", accuracy)\n"
      ],
      "metadata": {
        "colab": {
          "base_uri": "https://localhost:8080/"
        },
        "id": "3PHBMHa0nnRw",
        "outputId": "cfbdb2bc-0d11-4d27-8a25-da73869b7549"
      },
      "execution_count": 15,
      "outputs": [
        {
          "output_type": "stream",
          "name": "stdout",
          "text": [
            "Random Forest Accuracy: 0.9999941180449557\n"
          ]
        }
      ]
    },
    {
      "cell_type": "code",
      "source": [
        "df.isnull().sum()"
      ],
      "metadata": {
        "colab": {
          "base_uri": "https://localhost:8080/",
          "height": 397
        },
        "id": "QYFRgC1ca2TU",
        "outputId": "79723305-7728-428c-8540-4941e7c8d637"
      },
      "execution_count": 16,
      "outputs": [
        {
          "output_type": "execute_result",
          "data": {
            "text/plain": [
              "game_id                   0\n",
              "player_id                 0\n",
              "player_club_id            0\n",
              "player_current_club_id    0\n",
              "yellow_cards              0\n",
              "red_cards                 0\n",
              "goals                     0\n",
              "assists                   0\n",
              "minutes_played            0\n",
              "performance               0\n",
              "dtype: int64"
            ],
            "text/html": [
              "<div>\n",
              "<style scoped>\n",
              "    .dataframe tbody tr th:only-of-type {\n",
              "        vertical-align: middle;\n",
              "    }\n",
              "\n",
              "    .dataframe tbody tr th {\n",
              "        vertical-align: top;\n",
              "    }\n",
              "\n",
              "    .dataframe thead th {\n",
              "        text-align: right;\n",
              "    }\n",
              "</style>\n",
              "<table border=\"1\" class=\"dataframe\">\n",
              "  <thead>\n",
              "    <tr style=\"text-align: right;\">\n",
              "      <th></th>\n",
              "      <th>0</th>\n",
              "    </tr>\n",
              "  </thead>\n",
              "  <tbody>\n",
              "    <tr>\n",
              "      <th>game_id</th>\n",
              "      <td>0</td>\n",
              "    </tr>\n",
              "    <tr>\n",
              "      <th>player_id</th>\n",
              "      <td>0</td>\n",
              "    </tr>\n",
              "    <tr>\n",
              "      <th>player_club_id</th>\n",
              "      <td>0</td>\n",
              "    </tr>\n",
              "    <tr>\n",
              "      <th>player_current_club_id</th>\n",
              "      <td>0</td>\n",
              "    </tr>\n",
              "    <tr>\n",
              "      <th>yellow_cards</th>\n",
              "      <td>0</td>\n",
              "    </tr>\n",
              "    <tr>\n",
              "      <th>red_cards</th>\n",
              "      <td>0</td>\n",
              "    </tr>\n",
              "    <tr>\n",
              "      <th>goals</th>\n",
              "      <td>0</td>\n",
              "    </tr>\n",
              "    <tr>\n",
              "      <th>assists</th>\n",
              "      <td>0</td>\n",
              "    </tr>\n",
              "    <tr>\n",
              "      <th>minutes_played</th>\n",
              "      <td>0</td>\n",
              "    </tr>\n",
              "    <tr>\n",
              "      <th>performance</th>\n",
              "      <td>0</td>\n",
              "    </tr>\n",
              "  </tbody>\n",
              "</table>\n",
              "</div><br><label><b>dtype:</b> int64</label>"
            ]
          },
          "metadata": {},
          "execution_count": 16
        }
      ]
    }
  ]
}